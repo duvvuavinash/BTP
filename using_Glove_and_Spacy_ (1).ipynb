{
  "nbformat": 4,
  "nbformat_minor": 0,
  "metadata": {
    "colab": {
      "name": " using Glove and Spacy .ipynb",
      "provenance": []
    },
    "language_info": {
      "name": "python",
      "version": "3.6.4",
      "mimetype": "text/x-python",
      "codemirror_mode": {
        "name": "ipython",
        "version": 3
      },
      "pygments_lexer": "ipython3",
      "nbconvert_exporter": "python",
      "file_extension": ".py"
    },
    "kernelspec": {
      "name": "python3",
      "display_name": "Python 3"
    },
    "accelerator": "TPU"
  },
  "cells": [
    {
      "cell_type": "code",
      "metadata": {
        "id": "8CqmGNWMKwZs",
        "colab_type": "code",
        "colab": {
          "base_uri": "https://localhost:8080/",
          "height": 121
        },
        "outputId": "6fc66ebb-2ada-42af-b6c1-d3c371b659da"
      },
      "source": [
        "from google.colab import drive\n",
        "drive.mount('/content/drive')"
      ],
      "execution_count": 5,
      "outputs": [
        {
          "output_type": "stream",
          "text": [
            "Go to this URL in a browser: https://accounts.google.com/o/oauth2/auth?client_id=947318989803-6bn6qk8qdgf4n4g3pfee6491hc0brc4i.apps.googleusercontent.com&redirect_uri=urn%3aietf%3awg%3aoauth%3a2.0%3aoob&response_type=code&scope=email%20https%3a%2f%2fwww.googleapis.com%2fauth%2fdocs.test%20https%3a%2f%2fwww.googleapis.com%2fauth%2fdrive%20https%3a%2f%2fwww.googleapis.com%2fauth%2fdrive.photos.readonly%20https%3a%2f%2fwww.googleapis.com%2fauth%2fpeopleapi.readonly\n",
            "\n",
            "Enter your authorization code:\n",
            "··········\n",
            "Mounted at /content/drive\n"
          ],
          "name": "stdout"
        }
      ]
    },
    {
      "cell_type": "code",
      "metadata": {
        "id": "tI-4QkG3HnB5",
        "colab_type": "code",
        "outputId": "edfbca87-03dc-4689-c4f8-0449b85033c7",
        "colab": {
          "base_uri": "https://localhost:8080/",
          "height": 84
        }
      },
      "source": [
        "!tar -xvzf \"/content/drive/My Drive/yelp_review_polarity_csv.tgz\""
      ],
      "execution_count": 6,
      "outputs": [
        {
          "output_type": "stream",
          "text": [
            "yelp_review_polarity_csv/\n",
            "yelp_review_polarity_csv/train.csv\n",
            "yelp_review_polarity_csv/readme.txt\n",
            "yelp_review_polarity_csv/test.csv\n"
          ],
          "name": "stdout"
        }
      ]
    },
    {
      "cell_type": "code",
      "metadata": {
        "id": "bkS2kQ_-IbNU",
        "colab_type": "code",
        "outputId": "cdf6567a-66ab-4c01-8992-e02a7d141093",
        "colab": {
          "base_uri": "https://localhost:8080/",
          "height": 353
        }
      },
      "source": [
        "!wget \"http://nlp.stanford.edu/data/glove.6B.zip\""
      ],
      "execution_count": 7,
      "outputs": [
        {
          "output_type": "stream",
          "text": [
            "--2020-05-25 13:59:14--  http://nlp.stanford.edu/data/glove.6B.zip\n",
            "Resolving nlp.stanford.edu (nlp.stanford.edu)... 171.64.67.140\n",
            "Connecting to nlp.stanford.edu (nlp.stanford.edu)|171.64.67.140|:80... connected.\n",
            "HTTP request sent, awaiting response... 302 Found\n",
            "Location: https://nlp.stanford.edu/data/glove.6B.zip [following]\n",
            "--2020-05-25 13:59:15--  https://nlp.stanford.edu/data/glove.6B.zip\n",
            "Connecting to nlp.stanford.edu (nlp.stanford.edu)|171.64.67.140|:443... connected.\n",
            "HTTP request sent, awaiting response... 301 Moved Permanently\n",
            "Location: http://downloads.cs.stanford.edu/nlp/data/glove.6B.zip [following]\n",
            "--2020-05-25 13:59:15--  http://downloads.cs.stanford.edu/nlp/data/glove.6B.zip\n",
            "Resolving downloads.cs.stanford.edu (downloads.cs.stanford.edu)... 171.64.64.22\n",
            "Connecting to downloads.cs.stanford.edu (downloads.cs.stanford.edu)|171.64.64.22|:80... connected.\n",
            "HTTP request sent, awaiting response... 200 OK\n",
            "Length: 862182613 (822M) [application/zip]\n",
            "Saving to: ‘glove.6B.zip’\n",
            "\n",
            "glove.6B.zip        100%[===================>] 822.24M  2.05MB/s    in 6m 27s  \n",
            "\n",
            "2020-05-25 14:05:42 (2.12 MB/s) - ‘glove.6B.zip’ saved [862182613/862182613]\n",
            "\n"
          ],
          "name": "stdout"
        }
      ]
    },
    {
      "cell_type": "code",
      "metadata": {
        "id": "VjKDx6IKInI-",
        "colab_type": "code",
        "outputId": "ee4e7b47-ae87-4eb9-b778-1ff2708568a8",
        "colab": {
          "base_uri": "https://localhost:8080/",
          "height": 101
        }
      },
      "source": [
        "!unzip \"glove.6B.zip\""
      ],
      "execution_count": 8,
      "outputs": [
        {
          "output_type": "stream",
          "text": [
            "Archive:  glove.6B.zip\n",
            "  inflating: glove.6B.50d.txt        \n",
            "  inflating: glove.6B.100d.txt       \n",
            "  inflating: glove.6B.200d.txt       \n",
            "  inflating: glove.6B.300d.txt       \n"
          ],
          "name": "stdout"
        }
      ]
    },
    {
      "cell_type": "code",
      "metadata": {
        "_cell_guid": "b1076dfc-b9ad-4769-8c92-a6c4dae69d19",
        "_uuid": "8f2839f25d086af736a60e9eeb907d3b93b6e0e5",
        "trusted": false,
        "id": "Bvj_YGeu--0s",
        "colab_type": "code",
        "colab": {}
      },
      "source": [
        "  \n",
        "import numpy as np # linear algebra\n",
        "import pandas as pd # data processing, CSV file I/O (e.g. pd.read_csv)\n",
        "\n",
        "# Input data files are available in the \"../input/\" directory.\n",
        "# For example, running this (by clicking run or pressing Shift+Enter) will list the files in the input directory\n",
        "\n",
        "import os\n",
        "# print(os.listdir(\"../input\"))\n",
        "\n",
        "# Any results you write to the current directory are saved as output."
      ],
      "execution_count": 0,
      "outputs": []
    },
    {
      "cell_type": "code",
      "metadata": {
        "_cell_guid": "79c7e3d0-c299-4dcb-8224-4455121ee9b0",
        "_uuid": "d629ff2d2480ee46fbb7e2d37f6b5fab8052498a",
        "trusted": false,
        "id": "4NCacakt--0w",
        "colab_type": "code",
        "outputId": "7308b9b9-1d84-425b-9b72-b681d969cdbf",
        "colab": {
          "base_uri": "https://localhost:8080/",
          "height": 87
        }
      },
      "source": [
        "import pandas as pd,numpy as np,seaborn as sns\n",
        "from keras.preprocessing.text import Tokenizer\n",
        "from keras.preprocessing.sequence import pad_sequences\n",
        "from keras.utils import to_categorical\n",
        "import matplotlib.pyplot as plt\n",
        "%matplotlib inline\n",
        "import spacy"
      ],
      "execution_count": 10,
      "outputs": [
        {
          "output_type": "stream",
          "text": [
            "/usr/local/lib/python3.6/dist-packages/statsmodels/tools/_testing.py:19: FutureWarning: pandas.util.testing is deprecated. Use the functions in the public API at pandas.testing instead.\n",
            "  import pandas.util.testing as tm\n",
            "Using TensorFlow backend.\n"
          ],
          "name": "stderr"
        }
      ]
    },
    {
      "cell_type": "code",
      "metadata": {
        "scrolled": true,
        "_cell_guid": "721878c6-e111-4559-9e9c-706052f573d1",
        "_uuid": "4e095dc26e6699de771fcb27bdcd3ba177c7320d",
        "trusted": false,
        "id": "ZjLfJkgv--00",
        "colab_type": "code",
        "colab": {}
      },
      "source": [
        "yelp_reviews = pd.read_csv('/content/yelp_review_polarity_csv/train.csv', nrows = 10000)"
      ],
      "execution_count": 0,
      "outputs": []
    },
    {
      "cell_type": "code",
      "metadata": {
        "_cell_guid": "87c3b275-5a05-4f7e-907c-336190399694",
        "_uuid": "5782e772b4a9df661de0d74277388a0d7b686bbf",
        "trusted": false,
        "id": "3T5EycTE--04",
        "colab_type": "code",
        "colab": {}
      },
      "source": [
        "yelp_reviews.columns = ['label','review']"
      ],
      "execution_count": 0,
      "outputs": []
    },
    {
      "cell_type": "code",
      "metadata": {
        "id": "NpDJL-ToNAqS",
        "colab_type": "code",
        "colab": {}
      },
      "source": [
        "df = yelp_reviews"
      ],
      "execution_count": 0,
      "outputs": []
    },
    {
      "cell_type": "code",
      "metadata": {
        "id": "r_JOxVAtP28g",
        "colab_type": "code",
        "outputId": "c7da28f1-81b5-4a8c-a176-6debc141a876",
        "colab": {
          "base_uri": "https://localhost:8080/",
          "height": 101
        }
      },
      "source": [
        "df.label[df.label == 1] = 0"
      ],
      "execution_count": 14,
      "outputs": [
        {
          "output_type": "stream",
          "text": [
            "/usr/local/lib/python3.6/dist-packages/ipykernel_launcher.py:1: SettingWithCopyWarning: \n",
            "A value is trying to be set on a copy of a slice from a DataFrame\n",
            "\n",
            "See the caveats in the documentation: https://pandas.pydata.org/pandas-docs/stable/user_guide/indexing.html#returning-a-view-versus-a-copy\n",
            "  \"\"\"Entry point for launching an IPython kernel.\n"
          ],
          "name": "stderr"
        }
      ]
    },
    {
      "cell_type": "code",
      "metadata": {
        "id": "IWltiGqyPcrS",
        "colab_type": "code",
        "outputId": "2f8ef204-93e6-42b1-f42e-c7dfc628804b",
        "colab": {
          "base_uri": "https://localhost:8080/",
          "height": 101
        }
      },
      "source": [
        "df.label[df.label == 2] = 1"
      ],
      "execution_count": 15,
      "outputs": [
        {
          "output_type": "stream",
          "text": [
            "/usr/local/lib/python3.6/dist-packages/ipykernel_launcher.py:1: SettingWithCopyWarning: \n",
            "A value is trying to be set on a copy of a slice from a DataFrame\n",
            "\n",
            "See the caveats in the documentation: https://pandas.pydata.org/pandas-docs/stable/user_guide/indexing.html#returning-a-view-versus-a-copy\n",
            "  \"\"\"Entry point for launching an IPython kernel.\n"
          ],
          "name": "stderr"
        }
      ]
    },
    {
      "cell_type": "code",
      "metadata": {
        "_cell_guid": "231b382c-7455-4664-8aa4-48c0ce12b620",
        "_uuid": "9d79fd330b98cc60622ea42891d4fcec14ba3099",
        "trusted": false,
        "id": "rLm6Cf0g--08",
        "colab_type": "code",
        "outputId": "793bb5f9-436e-4746-9a27-9336175e1a47",
        "colab": {
          "base_uri": "https://localhost:8080/",
          "height": 195
        }
      },
      "source": [
        "df.head()"
      ],
      "execution_count": 16,
      "outputs": [
        {
          "output_type": "execute_result",
          "data": {
            "text/html": [
              "<div>\n",
              "<style scoped>\n",
              "    .dataframe tbody tr th:only-of-type {\n",
              "        vertical-align: middle;\n",
              "    }\n",
              "\n",
              "    .dataframe tbody tr th {\n",
              "        vertical-align: top;\n",
              "    }\n",
              "\n",
              "    .dataframe thead th {\n",
              "        text-align: right;\n",
              "    }\n",
              "</style>\n",
              "<table border=\"1\" class=\"dataframe\">\n",
              "  <thead>\n",
              "    <tr style=\"text-align: right;\">\n",
              "      <th></th>\n",
              "      <th>label</th>\n",
              "      <th>review</th>\n",
              "    </tr>\n",
              "  </thead>\n",
              "  <tbody>\n",
              "    <tr>\n",
              "      <th>0</th>\n",
              "      <td>1</td>\n",
              "      <td>Been going to Dr. Goldberg for over 10 years. ...</td>\n",
              "    </tr>\n",
              "    <tr>\n",
              "      <th>1</th>\n",
              "      <td>0</td>\n",
              "      <td>I don't know what Dr. Goldberg was like before...</td>\n",
              "    </tr>\n",
              "    <tr>\n",
              "      <th>2</th>\n",
              "      <td>0</td>\n",
              "      <td>I'm writing this review to give you a heads up...</td>\n",
              "    </tr>\n",
              "    <tr>\n",
              "      <th>3</th>\n",
              "      <td>1</td>\n",
              "      <td>All the food is great here. But the best thing...</td>\n",
              "    </tr>\n",
              "    <tr>\n",
              "      <th>4</th>\n",
              "      <td>0</td>\n",
              "      <td>Wing sauce is like water. Pretty much a lot of...</td>\n",
              "    </tr>\n",
              "  </tbody>\n",
              "</table>\n",
              "</div>"
            ],
            "text/plain": [
              "   label                                             review\n",
              "0      1  Been going to Dr. Goldberg for over 10 years. ...\n",
              "1      0  I don't know what Dr. Goldberg was like before...\n",
              "2      0  I'm writing this review to give you a heads up...\n",
              "3      1  All the food is great here. But the best thing...\n",
              "4      0  Wing sauce is like water. Pretty much a lot of..."
            ]
          },
          "metadata": {
            "tags": []
          },
          "execution_count": 16
        }
      ]
    },
    {
      "cell_type": "code",
      "metadata": {
        "_cell_guid": "3ddd726c-1fa3-45ff-94fb-67a7cdaf096f",
        "_uuid": "52162971a1b62d874389eef678996c6792cf385b",
        "trusted": false,
        "id": "xZv8jrF8--1A",
        "colab_type": "code",
        "outputId": "01b2f5c5-22f0-42c5-cf66-4e3296e82fd2",
        "colab": {
          "base_uri": "https://localhost:8080/",
          "height": 195
        }
      },
      "source": [
        "yelp_reviews.head()"
      ],
      "execution_count": 17,
      "outputs": [
        {
          "output_type": "execute_result",
          "data": {
            "text/html": [
              "<div>\n",
              "<style scoped>\n",
              "    .dataframe tbody tr th:only-of-type {\n",
              "        vertical-align: middle;\n",
              "    }\n",
              "\n",
              "    .dataframe tbody tr th {\n",
              "        vertical-align: top;\n",
              "    }\n",
              "\n",
              "    .dataframe thead th {\n",
              "        text-align: right;\n",
              "    }\n",
              "</style>\n",
              "<table border=\"1\" class=\"dataframe\">\n",
              "  <thead>\n",
              "    <tr style=\"text-align: right;\">\n",
              "      <th></th>\n",
              "      <th>label</th>\n",
              "      <th>review</th>\n",
              "    </tr>\n",
              "  </thead>\n",
              "  <tbody>\n",
              "    <tr>\n",
              "      <th>0</th>\n",
              "      <td>1</td>\n",
              "      <td>Been going to Dr. Goldberg for over 10 years. ...</td>\n",
              "    </tr>\n",
              "    <tr>\n",
              "      <th>1</th>\n",
              "      <td>0</td>\n",
              "      <td>I don't know what Dr. Goldberg was like before...</td>\n",
              "    </tr>\n",
              "    <tr>\n",
              "      <th>2</th>\n",
              "      <td>0</td>\n",
              "      <td>I'm writing this review to give you a heads up...</td>\n",
              "    </tr>\n",
              "    <tr>\n",
              "      <th>3</th>\n",
              "      <td>1</td>\n",
              "      <td>All the food is great here. But the best thing...</td>\n",
              "    </tr>\n",
              "    <tr>\n",
              "      <th>4</th>\n",
              "      <td>0</td>\n",
              "      <td>Wing sauce is like water. Pretty much a lot of...</td>\n",
              "    </tr>\n",
              "  </tbody>\n",
              "</table>\n",
              "</div>"
            ],
            "text/plain": [
              "   label                                             review\n",
              "0      1  Been going to Dr. Goldberg for over 10 years. ...\n",
              "1      0  I don't know what Dr. Goldberg was like before...\n",
              "2      0  I'm writing this review to give you a heads up...\n",
              "3      1  All the food is great here. But the best thing...\n",
              "4      0  Wing sauce is like water. Pretty much a lot of..."
            ]
          },
          "metadata": {
            "tags": []
          },
          "execution_count": 17
        }
      ]
    },
    {
      "cell_type": "code",
      "metadata": {
        "_cell_guid": "b1cd2e70-9100-43a9-951c-0147f8165e8b",
        "_uuid": "9f7126c5fad222ad73bce5ae6f4f8be47aa0bb74",
        "trusted": false,
        "id": "TMIvHY9C--1l",
        "colab_type": "code",
        "colab": {}
      },
      "source": [
        "nlp = spacy.load('en')"
      ],
      "execution_count": 0,
      "outputs": []
    },
    {
      "cell_type": "code",
      "metadata": {
        "_cell_guid": "0e58bbb7-7900-43e0-9410-6a6168cce046",
        "_uuid": "32a9ecab6d44f2003a815c0a67b2bd52f2462e24",
        "trusted": false,
        "id": "Gqdrfc0l--17",
        "colab_type": "code",
        "colab": {}
      },
      "source": [
        "max_num_words = 1000\n",
        "max_seq_length = 100\n",
        "tokenizer = Tokenizer(num_words=max_num_words)"
      ],
      "execution_count": 0,
      "outputs": []
    },
    {
      "cell_type": "code",
      "metadata": {
        "id": "AFWzSlr3SSt8",
        "colab_type": "code",
        "colab": {}
      },
      "source": [
        "texts = df[\"review\"].values\n",
        "labels = df[\"label\"].values"
      ],
      "execution_count": 0,
      "outputs": []
    },
    {
      "cell_type": "code",
      "metadata": {
        "_cell_guid": "a987b4e3-b7a3-4d6d-97a7-92b889888b9b",
        "_uuid": "5cba94b42ddb6a8a72715ab30b4958fff6a84257",
        "trusted": false,
        "id": "PhhArAe8--2H",
        "colab_type": "code",
        "colab": {}
      },
      "source": [
        "tokenizer.fit_on_texts(texts)\n",
        "sequences = tokenizer.texts_to_sequences(texts)\n",
        "word_index = tokenizer.word_index\n"
      ],
      "execution_count": 0,
      "outputs": []
    },
    {
      "cell_type": "code",
      "metadata": {
        "_cell_guid": "9b49d3c5-bca8-4e27-9324-a18831cc0361",
        "_uuid": "01da830a97419c9b01d285f214f2a79da7ba406e",
        "trusted": false,
        "id": "Tc8LsCgZ--2K",
        "colab_type": "code",
        "outputId": "98ee6713-9be0-4e5c-d229-36076383db6c",
        "colab": {
          "base_uri": "https://localhost:8080/",
          "height": 34
        }
      },
      "source": [
        "len(word_index)"
      ],
      "execution_count": 22,
      "outputs": [
        {
          "output_type": "execute_result",
          "data": {
            "text/plain": [
              "30299"
            ]
          },
          "metadata": {
            "tags": []
          },
          "execution_count": 22
        }
      ]
    },
    {
      "cell_type": "code",
      "metadata": {
        "_cell_guid": "c828337f-91cd-4075-9071-9b6667d4a190",
        "_uuid": "e1af0af2bfa6556ba03a2d4a08995823b013daa7",
        "trusted": false,
        "id": "zzovWC6g--2N",
        "colab_type": "code",
        "outputId": "f65096ee-1b2c-4ba3-98b7-87b361d9b2a1",
        "colab": {
          "base_uri": "https://localhost:8080/",
          "height": 134
        }
      },
      "source": [
        "data = pad_sequences(sequences, maxlen=max_seq_length)\n",
        "data"
      ],
      "execution_count": 23,
      "outputs": [
        {
          "output_type": "execute_result",
          "data": {
            "text/plain": [
              "array([[  0,   0,   0, ...,   2,  66, 632],\n",
              "       [ 16, 433,  10, ...,  55,   1, 273],\n",
              "       [  2, 199,  74, ..., 183,  14, 986],\n",
              "       ...,\n",
              "       [410, 612,  19, ...,   1,  71,  16],\n",
              "       [  0,   0,   0, ...,   9,   1, 168],\n",
              "       [  0,   0,   0, ...,   1, 237,  45]], dtype=int32)"
            ]
          },
          "metadata": {
            "tags": []
          },
          "execution_count": 23
        }
      ]
    },
    {
      "cell_type": "code",
      "metadata": {
        "_cell_guid": "76225dee-bfe2-45d6-a12b-19a4dce49d8a",
        "_uuid": "43685b899b9e4b41ecc4b1e6e1dfd0fc00049adf",
        "trusted": false,
        "id": "yZIwifyF--2R",
        "colab_type": "code",
        "outputId": "69d28c1a-092e-4b24-da86-a3f6c7fd5481",
        "colab": {
          "base_uri": "https://localhost:8080/",
          "height": 34
        }
      },
      "source": [
        "data.shape"
      ],
      "execution_count": 24,
      "outputs": [
        {
          "output_type": "execute_result",
          "data": {
            "text/plain": [
              "(10000, 100)"
            ]
          },
          "metadata": {
            "tags": []
          },
          "execution_count": 24
        }
      ]
    },
    {
      "cell_type": "code",
      "metadata": {
        "_cell_guid": "4f37aeb5-cdda-4ce4-b2bd-f245cc7d9519",
        "_uuid": "f036d4518d625809b13352b9b927dda5b9c4656d",
        "trusted": false,
        "id": "X6kKT4NW--2T",
        "colab_type": "code",
        "colab": {}
      },
      "source": [
        "labels = to_categorical(np.asarray(labels))"
      ],
      "execution_count": 0,
      "outputs": []
    },
    {
      "cell_type": "code",
      "metadata": {
        "_cell_guid": "6bdbeff6-94cd-438a-a288-e72b934934f8",
        "_uuid": "19f951609e8362673c7e5420b355328eea5b3760",
        "trusted": false,
        "id": "Jd8qASYe--2Y",
        "colab_type": "code",
        "outputId": "45227506-c353-46ed-acd2-2eff15ec8475",
        "colab": {
          "base_uri": "https://localhost:8080/",
          "height": 34
        }
      },
      "source": [
        "labels.shape"
      ],
      "execution_count": 26,
      "outputs": [
        {
          "output_type": "execute_result",
          "data": {
            "text/plain": [
              "(10000, 2)"
            ]
          },
          "metadata": {
            "tags": []
          },
          "execution_count": 26
        }
      ]
    },
    {
      "cell_type": "code",
      "metadata": {
        "_cell_guid": "c6fb93b5-7b9c-4ca8-903a-65526763762f",
        "_uuid": "0256e645011ee3050ce32a65d5df8c16b44b298b",
        "trusted": false,
        "id": "ZEXK5Buc--2e",
        "colab_type": "code",
        "colab": {}
      },
      "source": [
        "validation_spilit = 0.2\n",
        "indices = np.arange(data.shape[0])\n",
        "np.random.shuffle(indices)"
      ],
      "execution_count": 0,
      "outputs": []
    },
    {
      "cell_type": "code",
      "metadata": {
        "_cell_guid": "ec3d1c47-e3a2-46c7-88ff-47c0c4f05a2f",
        "_uuid": "ccbdfa233af2918969e0560a0738c81b10694154",
        "trusted": false,
        "id": "FZZ-TMeI--2g",
        "colab_type": "code",
        "outputId": "0e119945-ee0e-4544-ba01-ffe1aa4097cb",
        "colab": {
          "base_uri": "https://localhost:8080/",
          "height": 134
        }
      },
      "source": [
        "data = data[indices]\n",
        "data"
      ],
      "execution_count": 28,
      "outputs": [
        {
          "output_type": "execute_result",
          "data": {
            "text/plain": [
              "array([[178,   9,  41, ..., 400, 156,   8],\n",
              "       [  0,   0,   0, ...,  57,  41, 124],\n",
              "       [351,   3,   6, ...,  50,   5, 440],\n",
              "       ...,\n",
              "       [  0,   0,   0, ...,   9, 665, 165],\n",
              "       [  0,   0,   0, ...,   0,   0, 832],\n",
              "       [  1, 980,  63, ...,  71,  57,   5]], dtype=int32)"
            ]
          },
          "metadata": {
            "tags": []
          },
          "execution_count": 28
        }
      ]
    },
    {
      "cell_type": "code",
      "metadata": {
        "_cell_guid": "047fb8fe-8881-4fb6-a350-4939cb833972",
        "_uuid": "22d87efa8087046dc6dcba08c829b08e9198a2d7",
        "trusted": false,
        "id": "ze6lOXqn--2i",
        "colab_type": "code",
        "outputId": "e0225b4a-6293-466e-82b4-159cdaa6a663",
        "colab": {
          "base_uri": "https://localhost:8080/",
          "height": 134
        }
      },
      "source": [
        "labels = labels[indices]\n",
        "labels"
      ],
      "execution_count": 29,
      "outputs": [
        {
          "output_type": "execute_result",
          "data": {
            "text/plain": [
              "array([[0., 1.],\n",
              "       [1., 0.],\n",
              "       [0., 1.],\n",
              "       ...,\n",
              "       [0., 1.],\n",
              "       [1., 0.],\n",
              "       [1., 0.]], dtype=float32)"
            ]
          },
          "metadata": {
            "tags": []
          },
          "execution_count": 29
        }
      ]
    },
    {
      "cell_type": "code",
      "metadata": {
        "_cell_guid": "f40c81b4-c3af-46c2-b3e4-d8bee0fef433",
        "_uuid": "2db4e649432a4acbc99b2a2774dde27f4cff6ed5",
        "trusted": false,
        "id": "-6M0y38l--2l",
        "colab_type": "code",
        "outputId": "6ab04326-8189-4318-9b4b-31d45b7320ef",
        "colab": {
          "base_uri": "https://localhost:8080/",
          "height": 34
        }
      },
      "source": [
        "nb_validation_samples = int(validation_spilit*data.shape[0])\n",
        "nb_validation_samples"
      ],
      "execution_count": 30,
      "outputs": [
        {
          "output_type": "execute_result",
          "data": {
            "text/plain": [
              "2000"
            ]
          },
          "metadata": {
            "tags": []
          },
          "execution_count": 30
        }
      ]
    },
    {
      "cell_type": "code",
      "metadata": {
        "_cell_guid": "896d2744-3ae9-4868-add0-3fcd5b3ad03f",
        "_uuid": "02c5008ecbe67e631a99fca96179f5671981b54b",
        "trusted": false,
        "id": "_SfMM4sO--2o",
        "colab_type": "code",
        "colab": {}
      },
      "source": [
        "x_train = data[:-nb_validation_samples]\n",
        "y_train = labels[:-nb_validation_samples]\n",
        "x_val = data[-nb_validation_samples:]\n",
        "y_val = labels[-nb_validation_samples:]\n"
      ],
      "execution_count": 0,
      "outputs": []
    },
    {
      "cell_type": "code",
      "metadata": {
        "_cell_guid": "886c43cc-4c6f-4e2d-a5d5-dccd7df9cf00",
        "_uuid": "d743ab3bd117266860a29263c4330521654a112b",
        "trusted": false,
        "id": "80hB96jF--2t",
        "colab_type": "code",
        "colab": {}
      },
      "source": [
        "glove_dir = '/content/'"
      ],
      "execution_count": 0,
      "outputs": []
    },
    {
      "cell_type": "code",
      "metadata": {
        "_cell_guid": "fb8b1a07-856d-4122-bf6d-82e3c1f23183",
        "_uuid": "6259f81e098d4ef19d8dac2afec130e06a0309ad",
        "trusted": false,
        "id": "fb7o2ZJG--2x",
        "colab_type": "code",
        "outputId": "3f444f6c-d975-446a-b837-f5cae1eeb592",
        "colab": {
          "base_uri": "https://localhost:8080/",
          "height": 34
        }
      },
      "source": [
        "embedding_index = {}\n",
        "\n",
        "f = open(os.path.join(glove_dir,'glove.6B.100d.txt'))\n",
        "for line in f:\n",
        "    values = line.split()\n",
        "    word = values[0]\n",
        "    coefs = np.asarray(values[1:],dtype='float32')\n",
        "    embedding_index[word] = coefs\n",
        "f.close()\n",
        "\n",
        "print('found word vecs: ',len(embedding_index))"
      ],
      "execution_count": 33,
      "outputs": [
        {
          "output_type": "stream",
          "text": [
            "found word vecs:  400000\n"
          ],
          "name": "stdout"
        }
      ]
    },
    {
      "cell_type": "code",
      "metadata": {
        "_cell_guid": "3a75feac-fe78-4f45-ae23-b085a8d52e9d",
        "_uuid": "9cbc91bb3b5df510066b9972c81ee5e0002baa72",
        "trusted": false,
        "id": "PFja6NNo--22",
        "colab_type": "code",
        "outputId": "334489d4-77b6-47d4-a2eb-d751b92747ac",
        "colab": {
          "base_uri": "https://localhost:8080/",
          "height": 34
        }
      },
      "source": [
        "embedding_dim = 100\n",
        "embedding_matrix = np.zeros((len(word_index)+1,embedding_dim))\n",
        "embedding_matrix.shape"
      ],
      "execution_count": 34,
      "outputs": [
        {
          "output_type": "execute_result",
          "data": {
            "text/plain": [
              "(30300, 100)"
            ]
          },
          "metadata": {
            "tags": []
          },
          "execution_count": 34
        }
      ]
    },
    {
      "cell_type": "code",
      "metadata": {
        "_cell_guid": "24dd27c6-4e9d-450a-8ae0-4bcc61e9ff2e",
        "_uuid": "c22b2349cfb2113678d8d20de841470fcdc56709",
        "trusted": false,
        "id": "efM_j-f8--25",
        "colab_type": "code",
        "colab": {}
      },
      "source": [
        "for word,i in word_index.items():\n",
        "    embedding_vector = embedding_index.get(word)\n",
        "    if embedding_vector is not None:\n",
        "        embedding_matrix[i] = embedding_vector"
      ],
      "execution_count": 0,
      "outputs": []
    },
    {
      "cell_type": "code",
      "metadata": {
        "_cell_guid": "d8aec772-3fb4-46c9-8988-66da287ba1ab",
        "_uuid": "60df2f72c00f55fe26169328b8ef0d05eca0fab4",
        "trusted": false,
        "id": "N6ygSMux--29",
        "colab_type": "code",
        "colab": {}
      },
      "source": [
        "from keras.layers import Embedding\n",
        "embedding_layer = Embedding(len(word_index)+1,embedding_dim,weights=[embedding_matrix],input_length=max_seq_length,trainable=False)"
      ],
      "execution_count": 0,
      "outputs": []
    },
    {
      "cell_type": "code",
      "metadata": {
        "_cell_guid": "6618d995-5c04-41b4-9724-8892adfe50df",
        "_uuid": "d54df4e207d8f7874884998fa3c637177f3d5972",
        "trusted": false,
        "id": "zsfcBI53--3C",
        "colab_type": "code",
        "colab": {}
      },
      "source": [
        "from keras.layers import Bidirectional,GlobalMaxPool1D,Conv1D\n",
        "from keras.layers import LSTM,Input,Dense,Dropout,Activation\n",
        "from keras.models import Model"
      ],
      "execution_count": 0,
      "outputs": []
    },
    {
      "cell_type": "code",
      "metadata": {
        "_cell_guid": "f9dfbbed-0720-44a0-8679-2b9cc3c1ad3f",
        "_uuid": "3f84a01f25dd92b68681353714dfaa8a2fca70d1",
        "trusted": false,
        "id": "MDU2Y4hs--3G",
        "colab_type": "code",
        "colab": {}
      },
      "source": [
        "inp = Input(shape=(max_seq_length,))\n",
        "x = embedding_layer(inp)\n",
        "x = Bidirectional(LSTM(100,return_sequences=True,dropout=0.1,recurrent_dropout=0.1))(x)\n",
        "x = GlobalMaxPool1D()(x)\n",
        "x = Dense(100,activation='relu')(x)\n",
        "x = Dropout(0.1)(x)\n",
        "x = Dense(2,activation='sigmoid')(x)\n",
        "model = Model(inputs=inp,outputs=x)"
      ],
      "execution_count": 0,
      "outputs": []
    },
    {
      "cell_type": "code",
      "metadata": {
        "_cell_guid": "063aa4eb-1a13-49e3-bc00-bbd45be32238",
        "_uuid": "b7d7b5275784367bb2d508fe39c313548c528f25",
        "trusted": false,
        "id": "JAlDHW_U--3L",
        "colab_type": "code",
        "colab": {}
      },
      "source": [
        "\n",
        "model.compile(optimizer='adam',loss='binary_crossentropy',metrics=['accuracy'])\n"
      ],
      "execution_count": 0,
      "outputs": []
    },
    {
      "cell_type": "code",
      "metadata": {
        "_cell_guid": "854d7171-c903-4a2b-9c40-6322aeb61d4d",
        "_uuid": "4753f2c45b326b074d412a49e22eb0890ab76542",
        "trusted": false,
        "id": "0Qd1ekdY--3P",
        "colab_type": "code",
        "outputId": "015e5555-59b6-484d-c067-fbae8d0b1184",
        "colab": {
          "base_uri": "https://localhost:8080/",
          "height": 84
        }
      },
      "source": [
        "\n",
        "print(x_train.shape)\n",
        "print(y_train.shape)\n",
        "print(x_val.shape)\n",
        "print(y_val.shape)"
      ],
      "execution_count": 57,
      "outputs": [
        {
          "output_type": "stream",
          "text": [
            "(8000, 100)\n",
            "(8000, 2)\n",
            "(2000, 100)\n",
            "(2000, 2)\n"
          ],
          "name": "stdout"
        }
      ]
    },
    {
      "cell_type": "code",
      "metadata": {
        "_cell_guid": "436624ed-35d9-42cc-956a-501e6a6a7818",
        "_uuid": "da2981747e220ae713c61eda9857bfa42c48043d",
        "trusted": false,
        "id": "diHqdQLf--3V",
        "colab_type": "code",
        "outputId": "c96886bc-2ac6-4a94-8cb8-f46641545672",
        "colab": {
          "base_uri": "https://localhost:8080/",
          "height": 1000
        }
      },
      "source": [
        "model.fit(x_train,y_train,validation_data=(x_val,y_val),epochs=35,batch_size=128);"
      ],
      "execution_count": 58,
      "outputs": [
        {
          "output_type": "stream",
          "text": [
            "Train on 8000 samples, validate on 2000 samples\n",
            "Epoch 1/35\n",
            "8000/8000 [==============================] - 35s 4ms/step - loss: 0.6197 - accuracy: 0.6543 - val_loss: 0.4829 - val_accuracy: 0.7815\n",
            "Epoch 2/35\n",
            "8000/8000 [==============================] - 34s 4ms/step - loss: 0.4880 - accuracy: 0.7661 - val_loss: 0.3885 - val_accuracy: 0.8360\n",
            "Epoch 3/35\n",
            "8000/8000 [==============================] - 34s 4ms/step - loss: 0.4172 - accuracy: 0.8090 - val_loss: 0.3624 - val_accuracy: 0.8405\n",
            "Epoch 4/35\n",
            "8000/8000 [==============================] - 35s 4ms/step - loss: 0.3796 - accuracy: 0.8252 - val_loss: 0.3513 - val_accuracy: 0.8555\n",
            "Epoch 5/35\n",
            "8000/8000 [==============================] - 35s 4ms/step - loss: 0.3506 - accuracy: 0.8445 - val_loss: 0.3150 - val_accuracy: 0.8675\n",
            "Epoch 6/35\n",
            "8000/8000 [==============================] - 35s 4ms/step - loss: 0.3222 - accuracy: 0.8601 - val_loss: 0.2984 - val_accuracy: 0.8785\n",
            "Epoch 7/35\n",
            "8000/8000 [==============================] - 35s 4ms/step - loss: 0.3133 - accuracy: 0.8656 - val_loss: 0.3103 - val_accuracy: 0.8777\n",
            "Epoch 8/35\n",
            "8000/8000 [==============================] - 35s 4ms/step - loss: 0.2857 - accuracy: 0.8757 - val_loss: 0.2928 - val_accuracy: 0.8798\n",
            "Epoch 9/35\n",
            "8000/8000 [==============================] - 35s 4ms/step - loss: 0.2606 - accuracy: 0.8920 - val_loss: 0.2933 - val_accuracy: 0.8777\n",
            "Epoch 10/35\n",
            "8000/8000 [==============================] - 35s 4ms/step - loss: 0.2484 - accuracy: 0.8945 - val_loss: 0.2984 - val_accuracy: 0.8748\n",
            "Epoch 11/35\n",
            "8000/8000 [==============================] - 34s 4ms/step - loss: 0.2210 - accuracy: 0.9091 - val_loss: 0.2997 - val_accuracy: 0.8792\n",
            "Epoch 12/35\n",
            "8000/8000 [==============================] - 35s 4ms/step - loss: 0.2081 - accuracy: 0.9185 - val_loss: 0.2998 - val_accuracy: 0.8805\n",
            "Epoch 13/35\n",
            "8000/8000 [==============================] - 34s 4ms/step - loss: 0.1796 - accuracy: 0.9273 - val_loss: 0.3185 - val_accuracy: 0.8745\n",
            "Epoch 14/35\n",
            "8000/8000 [==============================] - 34s 4ms/step - loss: 0.1734 - accuracy: 0.9331 - val_loss: 0.3160 - val_accuracy: 0.8752\n",
            "Epoch 15/35\n",
            "8000/8000 [==============================] - 35s 4ms/step - loss: 0.1440 - accuracy: 0.9456 - val_loss: 0.3130 - val_accuracy: 0.8785\n",
            "Epoch 16/35\n",
            "8000/8000 [==============================] - 35s 4ms/step - loss: 0.1436 - accuracy: 0.9432 - val_loss: 0.3253 - val_accuracy: 0.8790\n",
            "Epoch 17/35\n",
            "8000/8000 [==============================] - 34s 4ms/step - loss: 0.1127 - accuracy: 0.9600 - val_loss: 0.3498 - val_accuracy: 0.8737\n",
            "Epoch 18/35\n",
            "8000/8000 [==============================] - 35s 4ms/step - loss: 0.1115 - accuracy: 0.9579 - val_loss: 0.3776 - val_accuracy: 0.8673\n",
            "Epoch 19/35\n",
            "8000/8000 [==============================] - 35s 4ms/step - loss: 0.0929 - accuracy: 0.9677 - val_loss: 0.3661 - val_accuracy: 0.8763\n",
            "Epoch 20/35\n",
            "8000/8000 [==============================] - 35s 4ms/step - loss: 0.1000 - accuracy: 0.9626 - val_loss: 0.3671 - val_accuracy: 0.8760\n",
            "Epoch 21/35\n",
            "8000/8000 [==============================] - 35s 4ms/step - loss: 0.0726 - accuracy: 0.9761 - val_loss: 0.3687 - val_accuracy: 0.8825\n",
            "Epoch 22/35\n",
            "8000/8000 [==============================] - 35s 4ms/step - loss: 0.0582 - accuracy: 0.9834 - val_loss: 0.3823 - val_accuracy: 0.8788\n",
            "Epoch 23/35\n",
            "8000/8000 [==============================] - 35s 4ms/step - loss: 0.0635 - accuracy: 0.9784 - val_loss: 0.4108 - val_accuracy: 0.8695\n",
            "Epoch 24/35\n",
            "8000/8000 [==============================] - 34s 4ms/step - loss: 0.0484 - accuracy: 0.9866 - val_loss: 0.4116 - val_accuracy: 0.8715\n",
            "Epoch 25/35\n",
            "8000/8000 [==============================] - 34s 4ms/step - loss: 0.0544 - accuracy: 0.9819 - val_loss: 0.4209 - val_accuracy: 0.8733\n",
            "Epoch 26/35\n",
            "8000/8000 [==============================] - 35s 4ms/step - loss: 0.0448 - accuracy: 0.9864 - val_loss: 0.4270 - val_accuracy: 0.8763\n",
            "Epoch 27/35\n",
            "8000/8000 [==============================] - 34s 4ms/step - loss: 0.0418 - accuracy: 0.9869 - val_loss: 0.4445 - val_accuracy: 0.8645\n",
            "Epoch 28/35\n",
            "8000/8000 [==============================] - 34s 4ms/step - loss: 0.0414 - accuracy: 0.9865 - val_loss: 0.4606 - val_accuracy: 0.8702\n",
            "Epoch 29/35\n",
            "8000/8000 [==============================] - 35s 4ms/step - loss: 0.0326 - accuracy: 0.9903 - val_loss: 0.4625 - val_accuracy: 0.8720\n",
            "Epoch 30/35\n",
            "8000/8000 [==============================] - 36s 4ms/step - loss: 0.0329 - accuracy: 0.9889 - val_loss: 0.4765 - val_accuracy: 0.8710\n",
            "Epoch 31/35\n",
            "8000/8000 [==============================] - 35s 4ms/step - loss: 0.0337 - accuracy: 0.9887 - val_loss: 0.5408 - val_accuracy: 0.8565\n",
            "Epoch 32/35\n",
            "8000/8000 [==============================] - 35s 4ms/step - loss: 0.0252 - accuracy: 0.9934 - val_loss: 0.4906 - val_accuracy: 0.8750\n",
            "Epoch 33/35\n",
            "8000/8000 [==============================] - 35s 4ms/step - loss: 0.0232 - accuracy: 0.9934 - val_loss: 0.5069 - val_accuracy: 0.8727\n",
            "Epoch 34/35\n",
            "8000/8000 [==============================] - 35s 4ms/step - loss: 0.0249 - accuracy: 0.9929 - val_loss: 0.4991 - val_accuracy: 0.8770\n",
            "Epoch 35/35\n",
            "8000/8000 [==============================] - 35s 4ms/step - loss: 0.0201 - accuracy: 0.9958 - val_loss: 0.5103 - val_accuracy: 0.8767\n"
          ],
          "name": "stdout"
        }
      ]
    },
    {
      "cell_type": "code",
      "metadata": {
        "_cell_guid": "e2219519-c3b7-477e-8636-f5f2d3882b4b",
        "_uuid": "4196ab0f3a61c0a08a5420916e5eaa7ec1dc4af3",
        "trusted": false,
        "id": "6n_Z9-LY--3Y",
        "colab_type": "code",
        "outputId": "e4e3d15f-71cb-48a2-87e6-79e75aa3a14b",
        "colab": {
          "base_uri": "https://localhost:8080/",
          "height": 50
        }
      },
      "source": [
        "score = model.evaluate(x_val, y_val)\n",
        "score\n"
      ],
      "execution_count": 63,
      "outputs": [
        {
          "output_type": "stream",
          "text": [
            "2000/2000 [==============================] - 2s 1ms/step\n"
          ],
          "name": "stdout"
        },
        {
          "output_type": "execute_result",
          "data": {
            "text/plain": [
              "[0.510255739569664, 0.8767499923706055]"
            ]
          },
          "metadata": {
            "tags": []
          },
          "execution_count": 63
        }
      ]
    },
    {
      "cell_type": "code",
      "metadata": {
        "_cell_guid": "4b76936e-96e5-45c9-906d-5124891449b3",
        "_uuid": "e9f60824821a662217f9c84bf281d581422d2534",
        "trusted": false,
        "id": "pP5fTYLB--3c",
        "colab_type": "code",
        "outputId": "0e9afcfe-7c8f-4437-9414-3a1ed9a322c3",
        "colab": {
          "base_uri": "https://localhost:8080/",
          "height": 34
        }
      },
      "source": [
        "score[1]  *100"
      ],
      "execution_count": 62,
      "outputs": [
        {
          "output_type": "execute_result",
          "data": {
            "text/plain": [
              "87.67499923706055"
            ]
          },
          "metadata": {
            "tags": []
          },
          "execution_count": 62
        }
      ]
    },
    {
      "cell_type": "code",
      "metadata": {
        "id": "dVSgWzkPExYb",
        "colab_type": "code",
        "colab": {
          "base_uri": "https://localhost:8080/",
          "height": 218
        },
        "outputId": "89f0128a-e0f6-4025-9a6f-06cea3efbae2"
      },
      "source": [
        "data1=pd.DataFrame(data)\n",
        "Label=df['label']\n"
      ],
      "execution_count": 65,
      "outputs": [
        {
          "output_type": "execute_result",
          "data": {
            "text/plain": [
              "0       1\n",
              "1       0\n",
              "2       0\n",
              "3       1\n",
              "4       0\n",
              "       ..\n",
              "9995    1\n",
              "9996    0\n",
              "9997    0\n",
              "9998    0\n",
              "9999    0\n",
              "Name: label, Length: 10000, dtype: int64"
            ]
          },
          "metadata": {
            "tags": []
          },
          "execution_count": 65
        }
      ]
    },
    {
      "cell_type": "code",
      "metadata": {
        "id": "ipkeu8PJ410B",
        "colab_type": "code",
        "colab": {}
      },
      "source": [
        "\n",
        "from sklearn import metrics\n",
        "from sklearn.model_selection import train_test_split\n",
        "X_train, X_test, Y_train, Y_test = train_test_split(data1,Label, test_size=0.2)"
      ],
      "execution_count": 0,
      "outputs": []
    },
    {
      "cell_type": "code",
      "metadata": {
        "id": "3OfDPZhOb5GC",
        "colab_type": "code",
        "colab": {}
      },
      "source": [
        "from sklearn.ensemble import AdaBoostClassifier\n",
        "\n",
        "# Import Support Vector Classifier\n",
        "from sklearn.svm import SVC\n",
        "#Import scikit-learn metrics module for accuracy calculation\n",
        "from sklearn import metrics\n",
        "svc=SVC(probability=True, kernel='rbf')\n",
        "\n",
        "# Create adaboost classifer object\n",
        "abc =AdaBoostClassifier(n_estimators=50, base_estimator=svc,learning_rate=1)\n",
        "\n",
        "# Train Adaboost Classifer\n",
        "model = abc.fit(X_train, Y_train)\n",
        "\n",
        "#Predict the response for test dataset\n",
        "Y_pred = model.predict(X_test)\n",
        "\n",
        "\n",
        "# Model Accuracy, how often is the classifier correct?\n",
        "print(\"Accuracy:\",metrics.accuracy_score(Y_test, Y_pred))"
      ],
      "execution_count": 0,
      "outputs": []
    },
    {
      "cell_type": "code",
      "metadata": {
        "id": "nA1vRw0CFCUu",
        "colab_type": "code",
        "colab": {}
      },
      "source": [
        ""
      ],
      "execution_count": 0,
      "outputs": []
    },
    {
      "cell_type": "code",
      "metadata": {
        "id": "ovw2dN4JCAXi",
        "colab_type": "code",
        "colab": {}
      },
      "source": [
        ""
      ],
      "execution_count": 0,
      "outputs": []
    },
    {
      "cell_type": "code",
      "metadata": {
        "id": "aEDKeGtxEU-M",
        "colab_type": "code",
        "colab": {}
      },
      "source": [
        ""
      ],
      "execution_count": 0,
      "outputs": []
    },
    {
      "cell_type": "code",
      "metadata": {
        "id": "gu6yEUGSGiH6",
        "colab_type": "code",
        "colab": {}
      },
      "source": [
        ""
      ],
      "execution_count": 0,
      "outputs": []
    }
  ]
}